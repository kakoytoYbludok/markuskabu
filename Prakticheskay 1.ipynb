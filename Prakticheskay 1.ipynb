{
 "cells": [
  {
   "attachments": {},
   "cell_type": "markdown",
   "id": "dc522236",
   "metadata": {},
   "source": [
    "# Практическая работа №1"
   ]
  },
  {
   "attachments": {},
   "cell_type": "markdown",
   "id": "2c03247b",
   "metadata": {},
   "source": [
    "Цель - Провести разведочный анализ данных по датасету"
   ]
  },
  {
   "attachments": {},
   "cell_type": "markdown",
   "id": "855c144d",
   "metadata": {},
   "source": [
    "Для начала инмопртруем билиотеку для работы с csv файлами и запишем наш датасет в переменную\n"
   ]
  },
  {
   "cell_type": "code",
   "execution_count": 8,
   "id": "736738ff",
   "metadata": {},
   "outputs": [
    {
     "data": {
      "text/html": [
       "<div>\n",
       "<style scoped>\n",
       "    .dataframe tbody tr th:only-of-type {\n",
       "        vertical-align: middle;\n",
       "    }\n",
       "\n",
       "    .dataframe tbody tr th {\n",
       "        vertical-align: top;\n",
       "    }\n",
       "\n",
       "    .dataframe thead th {\n",
       "        text-align: right;\n",
       "    }\n",
       "</style>\n",
       "<table border=\"1\" class=\"dataframe\">\n",
       "  <thead>\n",
       "    <tr style=\"text-align: right;\">\n",
       "      <th></th>\n",
       "      <th>Rank</th>\n",
       "      <th>Name</th>\n",
       "      <th>Platform</th>\n",
       "      <th>Year</th>\n",
       "      <th>Genre</th>\n",
       "      <th>Publisher</th>\n",
       "      <th>NA_Sales</th>\n",
       "      <th>EU_Sales</th>\n",
       "      <th>JP_Sales</th>\n",
       "      <th>Other_Sales</th>\n",
       "      <th>Global_Sales</th>\n",
       "    </tr>\n",
       "  </thead>\n",
       "  <tbody>\n",
       "    <tr>\n",
       "      <th>0</th>\n",
       "      <td>16534</td>\n",
       "      <td>Hitman (2016)</td>\n",
       "      <td>XOne</td>\n",
       "      <td>2016.0</td>\n",
       "      <td>Action</td>\n",
       "      <td>Square Enix</td>\n",
       "      <td>0.00</td>\n",
       "      <td>0.01</td>\n",
       "      <td>0.00</td>\n",
       "      <td>0.00</td>\n",
       "      <td>0.01</td>\n",
       "    </tr>\n",
       "    <tr>\n",
       "      <th>1</th>\n",
       "      <td>9997</td>\n",
       "      <td>Army Men: Soldiers of Misfortune</td>\n",
       "      <td>DS</td>\n",
       "      <td>2008.0</td>\n",
       "      <td>Shooter</td>\n",
       "      <td>Zoo Games</td>\n",
       "      <td>0.11</td>\n",
       "      <td>0.00</td>\n",
       "      <td>0.00</td>\n",
       "      <td>0.01</td>\n",
       "      <td>0.12</td>\n",
       "    </tr>\n",
       "    <tr>\n",
       "      <th>2</th>\n",
       "      <td>9462</td>\n",
       "      <td>Romance of the Three Kingdoms IV: Wall of Fire</td>\n",
       "      <td>PS</td>\n",
       "      <td>1995.0</td>\n",
       "      <td>Strategy</td>\n",
       "      <td>Tecmo Koei</td>\n",
       "      <td>0.05</td>\n",
       "      <td>0.03</td>\n",
       "      <td>0.04</td>\n",
       "      <td>0.01</td>\n",
       "      <td>0.13</td>\n",
       "    </tr>\n",
       "    <tr>\n",
       "      <th>3</th>\n",
       "      <td>1625</td>\n",
       "      <td>Castlevania</td>\n",
       "      <td>NES</td>\n",
       "      <td>1986.0</td>\n",
       "      <td>Platform</td>\n",
       "      <td>Konami Digital Entertainment</td>\n",
       "      <td>0.54</td>\n",
       "      <td>0.06</td>\n",
       "      <td>0.62</td>\n",
       "      <td>0.01</td>\n",
       "      <td>1.23</td>\n",
       "    </tr>\n",
       "    <tr>\n",
       "      <th>4</th>\n",
       "      <td>7360</td>\n",
       "      <td>BloodRayne</td>\n",
       "      <td>XB</td>\n",
       "      <td>2002.0</td>\n",
       "      <td>Shooter</td>\n",
       "      <td>Universal Interactive</td>\n",
       "      <td>0.16</td>\n",
       "      <td>0.05</td>\n",
       "      <td>0.00</td>\n",
       "      <td>0.01</td>\n",
       "      <td>0.21</td>\n",
       "    </tr>\n",
       "    <tr>\n",
       "      <th>...</th>\n",
       "      <td>...</td>\n",
       "      <td>...</td>\n",
       "      <td>...</td>\n",
       "      <td>...</td>\n",
       "      <td>...</td>\n",
       "      <td>...</td>\n",
       "      <td>...</td>\n",
       "      <td>...</td>\n",
       "      <td>...</td>\n",
       "      <td>...</td>\n",
       "      <td>...</td>\n",
       "    </tr>\n",
       "    <tr>\n",
       "      <th>548</th>\n",
       "      <td>11062</td>\n",
       "      <td>Beowulf: The Game</td>\n",
       "      <td>PSP</td>\n",
       "      <td>2007.0</td>\n",
       "      <td>Action</td>\n",
       "      <td>Ubisoft</td>\n",
       "      <td>0.08</td>\n",
       "      <td>0.00</td>\n",
       "      <td>0.00</td>\n",
       "      <td>0.01</td>\n",
       "      <td>0.09</td>\n",
       "    </tr>\n",
       "    <tr>\n",
       "      <th>549</th>\n",
       "      <td>13238</td>\n",
       "      <td>Finny the Fish &amp; the Seven Waters</td>\n",
       "      <td>PS2</td>\n",
       "      <td>2004.0</td>\n",
       "      <td>Sports</td>\n",
       "      <td>Sony Computer Entertainment</td>\n",
       "      <td>0.02</td>\n",
       "      <td>0.02</td>\n",
       "      <td>0.00</td>\n",
       "      <td>0.01</td>\n",
       "      <td>0.05</td>\n",
       "    </tr>\n",
       "    <tr>\n",
       "      <th>550</th>\n",
       "      <td>7555</td>\n",
       "      <td>Samurai Spirits (CD)</td>\n",
       "      <td>NG</td>\n",
       "      <td>1994.0</td>\n",
       "      <td>Fighting</td>\n",
       "      <td>SNK</td>\n",
       "      <td>0.00</td>\n",
       "      <td>0.00</td>\n",
       "      <td>0.20</td>\n",
       "      <td>0.00</td>\n",
       "      <td>0.20</td>\n",
       "    </tr>\n",
       "    <tr>\n",
       "      <th>551</th>\n",
       "      <td>15069</td>\n",
       "      <td>DemiKids: Light Version</td>\n",
       "      <td>GBA</td>\n",
       "      <td>2002.0</td>\n",
       "      <td>Role-Playing</td>\n",
       "      <td>Atlus</td>\n",
       "      <td>0.02</td>\n",
       "      <td>0.01</td>\n",
       "      <td>0.00</td>\n",
       "      <td>0.00</td>\n",
       "      <td>0.02</td>\n",
       "    </tr>\n",
       "    <tr>\n",
       "      <th>552</th>\n",
       "      <td>5000</td>\n",
       "      <td>The Cat in the Hat</td>\n",
       "      <td>GBA</td>\n",
       "      <td>2005.0</td>\n",
       "      <td>Platform</td>\n",
       "      <td>Jack of All Games</td>\n",
       "      <td>0.27</td>\n",
       "      <td>0.10</td>\n",
       "      <td>0.00</td>\n",
       "      <td>0.01</td>\n",
       "      <td>0.38</td>\n",
       "    </tr>\n",
       "  </tbody>\n",
       "</table>\n",
       "<p>553 rows × 11 columns</p>\n",
       "</div>"
      ],
      "text/plain": [
       "      Rank                                            Name Platform    Year  \\\n",
       "0    16534                                   Hitman (2016)     XOne  2016.0   \n",
       "1     9997                Army Men: Soldiers of Misfortune       DS  2008.0   \n",
       "2     9462  Romance of the Three Kingdoms IV: Wall of Fire       PS  1995.0   \n",
       "3     1625                                     Castlevania      NES  1986.0   \n",
       "4     7360                                      BloodRayne       XB  2002.0   \n",
       "..     ...                                             ...      ...     ...   \n",
       "548  11062                               Beowulf: The Game      PSP  2007.0   \n",
       "549  13238               Finny the Fish & the Seven Waters      PS2  2004.0   \n",
       "550   7555                            Samurai Spirits (CD)       NG  1994.0   \n",
       "551  15069                         DemiKids: Light Version      GBA  2002.0   \n",
       "552   5000                              The Cat in the Hat      GBA  2005.0   \n",
       "\n",
       "            Genre                     Publisher  NA_Sales  EU_Sales  JP_Sales  \\\n",
       "0          Action                   Square Enix      0.00      0.01      0.00   \n",
       "1         Shooter                     Zoo Games      0.11      0.00      0.00   \n",
       "2        Strategy                    Tecmo Koei      0.05      0.03      0.04   \n",
       "3        Platform  Konami Digital Entertainment      0.54      0.06      0.62   \n",
       "4         Shooter         Universal Interactive      0.16      0.05      0.00   \n",
       "..            ...                           ...       ...       ...       ...   \n",
       "548        Action                       Ubisoft      0.08      0.00      0.00   \n",
       "549        Sports   Sony Computer Entertainment      0.02      0.02      0.00   \n",
       "550      Fighting                           SNK      0.00      0.00      0.20   \n",
       "551  Role-Playing                         Atlus      0.02      0.01      0.00   \n",
       "552      Platform             Jack of All Games      0.27      0.10      0.00   \n",
       "\n",
       "     Other_Sales  Global_Sales  \n",
       "0           0.00          0.01  \n",
       "1           0.01          0.12  \n",
       "2           0.01          0.13  \n",
       "3           0.01          1.23  \n",
       "4           0.01          0.21  \n",
       "..           ...           ...  \n",
       "548         0.01          0.09  \n",
       "549         0.01          0.05  \n",
       "550         0.00          0.20  \n",
       "551         0.00          0.02  \n",
       "552         0.01          0.38  \n",
       "\n",
       "[553 rows x 11 columns]"
      ]
     },
     "execution_count": 8,
     "metadata": {},
     "output_type": "execute_result"
    }
   ],
   "source": [
    "import pandas\n",
    "\n",
    "df = pandas.read_csv('vgsales_13.csv')\n",
    "\n",
    "df"
   ]
  },
  {
   "attachments": {},
   "cell_type": "markdown",
   "id": "b69e42f2",
   "metadata": {},
   "source": [
    "Затем при помощи метода info() соберем осноную информацию о датафрейме"
   ]
  },
  {
   "cell_type": "code",
   "execution_count": 9,
   "id": "ee311b58",
   "metadata": {},
   "outputs": [
    {
     "name": "stdout",
     "output_type": "stream",
     "text": [
      "<class 'pandas.core.frame.DataFrame'>\n",
      "RangeIndex: 553 entries, 0 to 552\n",
      "Data columns (total 11 columns):\n",
      " #   Column        Non-Null Count  Dtype  \n",
      "---  ------        --------------  -----  \n",
      " 0   Rank          553 non-null    int64  \n",
      " 1   Name          553 non-null    object \n",
      " 2   Platform      553 non-null    object \n",
      " 3   Year          547 non-null    float64\n",
      " 4   Genre         553 non-null    object \n",
      " 5   Publisher     550 non-null    object \n",
      " 6   NA_Sales      553 non-null    float64\n",
      " 7   EU_Sales      553 non-null    float64\n",
      " 8   JP_Sales      553 non-null    float64\n",
      " 9   Other_Sales   553 non-null    float64\n",
      " 10  Global_Sales  553 non-null    float64\n",
      "dtypes: float64(6), int64(1), object(4)\n",
      "memory usage: 47.6+ KB\n"
     ]
    }
   ],
   "source": [
    "df.info()\n"
   ]
  },
  {
   "attachments": {},
   "cell_type": "markdown",
   "id": "77326e4f",
   "metadata": {},
   "source": [
    "Как видим в столбце года указаны не все значения"
   ]
  },
  {
   "attachments": {},
   "cell_type": "markdown",
   "id": "9bafb30d",
   "metadata": {},
   "source": [
    "Попробуем Выяснить какие площадки есть в датафрейме, делается это при помощи метода unique(), который возвращает неповторяющиеся значения"
   ]
  },
  {
   "cell_type": "code",
   "execution_count": 10,
   "id": "3fab3786",
   "metadata": {},
   "outputs": [
    {
     "data": {
      "text/plain": [
       "538"
      ]
     },
     "execution_count": 10,
     "metadata": {},
     "output_type": "execute_result"
    }
   ],
   "source": [
    "len(df.Name.unique())\n"
   ]
  },
  {
   "attachments": {},
   "cell_type": "markdown",
   "id": "d8676b2e",
   "metadata": {},
   "source": [
    "При помощи метода describe() можно вывести основную информацию о датасете, а именно: минимальное, максимальное значение, дисперсию, среднее арифметическое, а также 25% и 75%"
   ]
  },
  {
   "cell_type": "code",
   "execution_count": 11,
   "id": "dc5788a1",
   "metadata": {},
   "outputs": [
    {
     "data": {
      "text/html": [
       "<div>\n",
       "<style scoped>\n",
       "    .dataframe tbody tr th:only-of-type {\n",
       "        vertical-align: middle;\n",
       "    }\n",
       "\n",
       "    .dataframe tbody tr th {\n",
       "        vertical-align: top;\n",
       "    }\n",
       "\n",
       "    .dataframe thead th {\n",
       "        text-align: right;\n",
       "    }\n",
       "</style>\n",
       "<table border=\"1\" class=\"dataframe\">\n",
       "  <thead>\n",
       "    <tr style=\"text-align: right;\">\n",
       "      <th></th>\n",
       "      <th>Rank</th>\n",
       "      <th>Year</th>\n",
       "      <th>NA_Sales</th>\n",
       "      <th>EU_Sales</th>\n",
       "      <th>JP_Sales</th>\n",
       "      <th>Other_Sales</th>\n",
       "      <th>Global_Sales</th>\n",
       "    </tr>\n",
       "  </thead>\n",
       "  <tbody>\n",
       "    <tr>\n",
       "      <th>count</th>\n",
       "      <td>553.000000</td>\n",
       "      <td>547.000000</td>\n",
       "      <td>553.000000</td>\n",
       "      <td>553.000000</td>\n",
       "      <td>553.000000</td>\n",
       "      <td>553.000000</td>\n",
       "      <td>553.000000</td>\n",
       "    </tr>\n",
       "    <tr>\n",
       "      <th>mean</th>\n",
       "      <td>7916.343580</td>\n",
       "      <td>2006.806216</td>\n",
       "      <td>0.319982</td>\n",
       "      <td>0.192369</td>\n",
       "      <td>0.077143</td>\n",
       "      <td>0.061320</td>\n",
       "      <td>0.651157</td>\n",
       "    </tr>\n",
       "    <tr>\n",
       "      <th>std</th>\n",
       "      <td>4809.468906</td>\n",
       "      <td>5.713787</td>\n",
       "      <td>0.984433</td>\n",
       "      <td>0.736568</td>\n",
       "      <td>0.278924</td>\n",
       "      <td>0.216749</td>\n",
       "      <td>2.043337</td>\n",
       "    </tr>\n",
       "    <tr>\n",
       "      <th>min</th>\n",
       "      <td>4.000000</td>\n",
       "      <td>1980.000000</td>\n",
       "      <td>0.000000</td>\n",
       "      <td>0.000000</td>\n",
       "      <td>0.000000</td>\n",
       "      <td>0.000000</td>\n",
       "      <td>0.010000</td>\n",
       "    </tr>\n",
       "    <tr>\n",
       "      <th>25%</th>\n",
       "      <td>3951.000000</td>\n",
       "      <td>2003.000000</td>\n",
       "      <td>0.010000</td>\n",
       "      <td>0.000000</td>\n",
       "      <td>0.000000</td>\n",
       "      <td>0.000000</td>\n",
       "      <td>0.070000</td>\n",
       "    </tr>\n",
       "    <tr>\n",
       "      <th>50%</th>\n",
       "      <td>7606.000000</td>\n",
       "      <td>2008.000000</td>\n",
       "      <td>0.080000</td>\n",
       "      <td>0.030000</td>\n",
       "      <td>0.000000</td>\n",
       "      <td>0.010000</td>\n",
       "      <td>0.200000</td>\n",
       "    </tr>\n",
       "    <tr>\n",
       "      <th>75%</th>\n",
       "      <td>11881.000000</td>\n",
       "      <td>2011.000000</td>\n",
       "      <td>0.270000</td>\n",
       "      <td>0.140000</td>\n",
       "      <td>0.040000</td>\n",
       "      <td>0.040000</td>\n",
       "      <td>0.500000</td>\n",
       "    </tr>\n",
       "    <tr>\n",
       "      <th>max</th>\n",
       "      <td>16582.000000</td>\n",
       "      <td>2016.000000</td>\n",
       "      <td>15.750000</td>\n",
       "      <td>11.010000</td>\n",
       "      <td>3.960000</td>\n",
       "      <td>2.960000</td>\n",
       "      <td>33.000000</td>\n",
       "    </tr>\n",
       "  </tbody>\n",
       "</table>\n",
       "</div>"
      ],
      "text/plain": [
       "               Rank         Year    NA_Sales    EU_Sales    JP_Sales  \\\n",
       "count    553.000000   547.000000  553.000000  553.000000  553.000000   \n",
       "mean    7916.343580  2006.806216    0.319982    0.192369    0.077143   \n",
       "std     4809.468906     5.713787    0.984433    0.736568    0.278924   \n",
       "min        4.000000  1980.000000    0.000000    0.000000    0.000000   \n",
       "25%     3951.000000  2003.000000    0.010000    0.000000    0.000000   \n",
       "50%     7606.000000  2008.000000    0.080000    0.030000    0.000000   \n",
       "75%    11881.000000  2011.000000    0.270000    0.140000    0.040000   \n",
       "max    16582.000000  2016.000000   15.750000   11.010000    3.960000   \n",
       "\n",
       "       Other_Sales  Global_Sales  \n",
       "count   553.000000    553.000000  \n",
       "mean      0.061320      0.651157  \n",
       "std       0.216749      2.043337  \n",
       "min       0.000000      0.010000  \n",
       "25%       0.000000      0.070000  \n",
       "50%       0.010000      0.200000  \n",
       "75%       0.040000      0.500000  \n",
       "max       2.960000     33.000000  "
      ]
     },
     "execution_count": 11,
     "metadata": {},
     "output_type": "execute_result"
    }
   ],
   "source": [
    "df.describe()\n"
   ]
  },
  {
   "attachments": {},
   "cell_type": "markdown",
   "id": "4d6c783f",
   "metadata": {},
   "source": [
    "Указанный ниже метод позволяет вывести статистику по нулевым значениям, в конце умножаем на 100, для того чтобы перевести значение в проценты"
   ]
  },
  {
   "cell_type": "code",
   "execution_count": 12,
   "id": "d808585e",
   "metadata": {},
   "outputs": [
    {
     "data": {
      "text/plain": [
       "Rank            0.000000\n",
       "Name            0.000000\n",
       "Platform        0.000000\n",
       "Year            1.084991\n",
       "Genre           0.000000\n",
       "Publisher       0.542495\n",
       "NA_Sales        0.000000\n",
       "EU_Sales        0.000000\n",
       "JP_Sales        0.000000\n",
       "Other_Sales     0.000000\n",
       "Global_Sales    0.000000\n",
       "dtype: float64"
      ]
     },
     "execution_count": 12,
     "metadata": {},
     "output_type": "execute_result"
    }
   ],
   "source": [
    "df.isnull().mean() * 100\n"
   ]
  },
  {
   "attachments": {},
   "cell_type": "markdown",
   "id": "dc7513d1",
   "metadata": {},
   "source": [
    "Так как пустых полей с годом всего 2 процента, то можно удалить эти строки, для того, чтобы они не ме мешали расчетам, делается это при помощи метода dropna() с указанием столбца"
   ]
  },
  {
   "cell_type": "code",
   "execution_count": 13,
   "id": "85889f14",
   "metadata": {},
   "outputs": [],
   "source": [
    "df = df.dropna(subset=['Year'])"
   ]
  },
  {
   "attachments": {},
   "cell_type": "markdown",
   "id": "65cbf7e6",
   "metadata": {},
   "source": [
    "Проверим, удалились ли пустые ячейки\n"
   ]
  },
  {
   "cell_type": "code",
   "execution_count": 14,
   "id": "6a4934ec",
   "metadata": {},
   "outputs": [
    {
     "data": {
      "text/plain": [
       "Rank            0.000000\n",
       "Name            0.000000\n",
       "Platform        0.000000\n",
       "Year            0.000000\n",
       "Genre           0.000000\n",
       "Publisher       0.365631\n",
       "NA_Sales        0.000000\n",
       "EU_Sales        0.000000\n",
       "JP_Sales        0.000000\n",
       "Other_Sales     0.000000\n",
       "Global_Sales    0.000000\n",
       "dtype: float64"
      ]
     },
     "execution_count": 14,
     "metadata": {},
     "output_type": "execute_result"
    }
   ],
   "source": [
    "df.isnull().mean() * 100\n"
   ]
  },
  {
   "attachments": {},
   "cell_type": "markdown",
   "id": "8f6e5772",
   "metadata": {},
   "source": [
    "Как видим все пустые ячеки удалились, а также проверим при помощи метода shape() сколько строк осталось"
   ]
  },
  {
   "cell_type": "code",
   "execution_count": 15,
   "id": "4f7be138",
   "metadata": {},
   "outputs": [
    {
     "data": {
      "text/plain": [
       "547"
      ]
     },
     "execution_count": 15,
     "metadata": {},
     "output_type": "execute_result"
    }
   ],
   "source": [
    "df.shape[0]\n"
   ]
  },
  {
   "attachments": {},
   "cell_type": "markdown",
   "id": "f43d7911",
   "metadata": {},
   "source": [
    "Еще один способ - удаление признака из датасета, для этого нужно воспользоваться методом drop() с указанием в скобках столбцов, которые необходимо удалить"
   ]
  },
  {
   "cell_type": "code",
   "execution_count": 16,
   "id": "9a0bc5d9",
   "metadata": {},
   "outputs": [
    {
     "data": {
      "text/plain": [
       "Index(['Rank', 'Name', 'Platform', 'Genre', 'Publisher', 'NA_Sales',\n",
       "       'EU_Sales', 'JP_Sales', 'Other_Sales', 'Global_Sales'],\n",
       "      dtype='object')"
      ]
     },
     "execution_count": 16,
     "metadata": {},
     "output_type": "execute_result"
    }
   ],
   "source": [
    "df.drop(columns=['Year']).columns\n"
   ]
  },
  {
   "attachments": {},
   "cell_type": "markdown",
   "id": "67829ccd",
   "metadata": {},
   "source": [
    "Также для избавления от нулевых значений можно воспользоваться заменой значений, для замены значений используется функция replace(), а для того чтобы определить нулевое ли значение воспользуемся значением nan из библиотеки numpy"
   ]
  },
  {
   "cell_type": "code",
   "execution_count": 17,
   "id": "e1653561",
   "metadata": {},
   "outputs": [
    {
     "data": {
      "text/plain": [
       "Rank            0.000000\n",
       "Name            0.000000\n",
       "Platform        0.000000\n",
       "Year            0.000000\n",
       "Genre           0.000000\n",
       "Publisher       0.003656\n",
       "NA_Sales        0.000000\n",
       "EU_Sales        0.000000\n",
       "JP_Sales        0.000000\n",
       "Other_Sales     0.000000\n",
       "Global_Sales    0.000000\n",
       "dtype: float64"
      ]
     },
     "execution_count": 17,
     "metadata": {},
     "output_type": "execute_result"
    }
   ],
   "source": [
    "from numpy import nan\n",
    "df.replace({\n",
    "    'Year': nan\n",
    "}, 200).isnull().mean()"
   ]
  },
  {
   "attachments": {},
   "cell_type": "markdown",
   "id": "87046acf",
   "metadata": {},
   "source": [
    "Как видим замена тоже избавила от нулевых значений"
   ]
  },
  {
   "attachments": {},
   "cell_type": "markdown",
   "id": "1610ea85",
   "metadata": {},
   "source": [
    "И последний споособ - использование подстановщика, подстановщик позволяет по специальному алгоритму заменить недостающие данные в датасете. Библиотека в которой есть простой подстановщик - sklearn, класс SimpleImputer"
   ]
  },
  {
   "cell_type": "code",
   "execution_count": 29,
   "id": "97747b8d",
   "metadata": {},
   "outputs": [],
   "source": [
    "from sklearn.impute import SimpleImputer\n",
    "SI = SimpleImputer()"
   ]
  },
  {
   "attachments": {},
   "cell_type": "markdown",
   "id": "16901691",
   "metadata": {},
   "source": [
    "При помощи метода fit данного класса подгоним значения для импутера\n"
   ]
  },
  {
   "cell_type": "code",
   "execution_count": 30,
   "id": "b5f4e271",
   "metadata": {},
   "outputs": [
    {
     "data": {
      "text/html": [
       "<style>#sk-container-id-1 {color: black;background-color: white;}#sk-container-id-1 pre{padding: 0;}#sk-container-id-1 div.sk-toggleable {background-color: white;}#sk-container-id-1 label.sk-toggleable__label {cursor: pointer;display: block;width: 100%;margin-bottom: 0;padding: 0.3em;box-sizing: border-box;text-align: center;}#sk-container-id-1 label.sk-toggleable__label-arrow:before {content: \"▸\";float: left;margin-right: 0.25em;color: #696969;}#sk-container-id-1 label.sk-toggleable__label-arrow:hover:before {color: black;}#sk-container-id-1 div.sk-estimator:hover label.sk-toggleable__label-arrow:before {color: black;}#sk-container-id-1 div.sk-toggleable__content {max-height: 0;max-width: 0;overflow: hidden;text-align: left;background-color: #f0f8ff;}#sk-container-id-1 div.sk-toggleable__content pre {margin: 0.2em;color: black;border-radius: 0.25em;background-color: #f0f8ff;}#sk-container-id-1 input.sk-toggleable__control:checked~div.sk-toggleable__content {max-height: 200px;max-width: 100%;overflow: auto;}#sk-container-id-1 input.sk-toggleable__control:checked~label.sk-toggleable__label-arrow:before {content: \"▾\";}#sk-container-id-1 div.sk-estimator input.sk-toggleable__control:checked~label.sk-toggleable__label {background-color: #d4ebff;}#sk-container-id-1 div.sk-label input.sk-toggleable__control:checked~label.sk-toggleable__label {background-color: #d4ebff;}#sk-container-id-1 input.sk-hidden--visually {border: 0;clip: rect(1px 1px 1px 1px);clip: rect(1px, 1px, 1px, 1px);height: 1px;margin: -1px;overflow: hidden;padding: 0;position: absolute;width: 1px;}#sk-container-id-1 div.sk-estimator {font-family: monospace;background-color: #f0f8ff;border: 1px dotted black;border-radius: 0.25em;box-sizing: border-box;margin-bottom: 0.5em;}#sk-container-id-1 div.sk-estimator:hover {background-color: #d4ebff;}#sk-container-id-1 div.sk-parallel-item::after {content: \"\";width: 100%;border-bottom: 1px solid gray;flex-grow: 1;}#sk-container-id-1 div.sk-label:hover label.sk-toggleable__label {background-color: #d4ebff;}#sk-container-id-1 div.sk-serial::before {content: \"\";position: absolute;border-left: 1px solid gray;box-sizing: border-box;top: 0;bottom: 0;left: 50%;z-index: 0;}#sk-container-id-1 div.sk-serial {display: flex;flex-direction: column;align-items: center;background-color: white;padding-right: 0.2em;padding-left: 0.2em;position: relative;}#sk-container-id-1 div.sk-item {position: relative;z-index: 1;}#sk-container-id-1 div.sk-parallel {display: flex;align-items: stretch;justify-content: center;background-color: white;position: relative;}#sk-container-id-1 div.sk-item::before, #sk-container-id-1 div.sk-parallel-item::before {content: \"\";position: absolute;border-left: 1px solid gray;box-sizing: border-box;top: 0;bottom: 0;left: 50%;z-index: -1;}#sk-container-id-1 div.sk-parallel-item {display: flex;flex-direction: column;z-index: 1;position: relative;background-color: white;}#sk-container-id-1 div.sk-parallel-item:first-child::after {align-self: flex-end;width: 50%;}#sk-container-id-1 div.sk-parallel-item:last-child::after {align-self: flex-start;width: 50%;}#sk-container-id-1 div.sk-parallel-item:only-child::after {width: 0;}#sk-container-id-1 div.sk-dashed-wrapped {border: 1px dashed gray;margin: 0 0.4em 0.5em 0.4em;box-sizing: border-box;padding-bottom: 0.4em;background-color: white;}#sk-container-id-1 div.sk-label label {font-family: monospace;font-weight: bold;display: inline-block;line-height: 1.2em;}#sk-container-id-1 div.sk-label-container {text-align: center;}#sk-container-id-1 div.sk-container {/* jupyter's `normalize.less` sets `[hidden] { display: none; }` but bootstrap.min.css set `[hidden] { display: none !important; }` so we also need the `!important` here to be able to override the default hidden behavior on the sphinx rendered scikit-learn.org. See: https://github.com/scikit-learn/scikit-learn/issues/21755 */display: inline-block !important;position: relative;}#sk-container-id-1 div.sk-text-repr-fallback {display: none;}</style><div id=\"sk-container-id-1\" class=\"sk-top-container\"><div class=\"sk-text-repr-fallback\"><pre>SimpleImputer()</pre><b>In a Jupyter environment, please rerun this cell to show the HTML representation or trust the notebook. <br />On GitHub, the HTML representation is unable to render, please try loading this page with nbviewer.org.</b></div><div class=\"sk-container\" hidden><div class=\"sk-item\"><div class=\"sk-estimator sk-toggleable\"><input class=\"sk-toggleable__control sk-hidden--visually\" id=\"sk-estimator-id-1\" type=\"checkbox\" checked><label for=\"sk-estimator-id-1\" class=\"sk-toggleable__label sk-toggleable__label-arrow\">SimpleImputer</label><div class=\"sk-toggleable__content\"><pre>SimpleImputer()</pre></div></div></div></div></div>"
      ],
      "text/plain": [
       "SimpleImputer()"
      ]
     },
     "execution_count": 30,
     "metadata": {},
     "output_type": "execute_result"
    }
   ],
   "source": [
    "SI.fit(df[[\n",
    "    'Year'\n",
    "]])"
   ]
  },
  {
   "attachments": {},
   "cell_type": "markdown",
   "id": "75920ba2",
   "metadata": {},
   "source": [
    "Затем при помощи метода transform() заполним все недостающие значения, как видим все нулевые значения пропадают"
   ]
  },
  {
   "cell_type": "code",
   "execution_count": 34,
   "id": "1722bd24",
   "metadata": {},
   "outputs": [
    {
     "name": "stderr",
     "output_type": "stream",
     "text": [
      "C:\\Users\\murkl\\AppData\\Local\\Temp\\ipykernel_17372\\2100097140.py:1: SettingWithCopyWarning: \n",
      "A value is trying to be set on a copy of a slice from a DataFrame.\n",
      "Try using .loc[row_indexer,col_indexer] = value instead\n",
      "\n",
      "See the caveats in the documentation: https://pandas.pydata.org/pandas-docs/stable/user_guide/indexing.html#returning-a-view-versus-a-copy\n",
      "  df[['Year']] = SI.transform(df[['Year']])\n"
     ]
    },
    {
     "data": {
      "text/plain": [
       "Rank            0.000000\n",
       "Name            0.000000\n",
       "Platform        0.000000\n",
       "Year            0.000000\n",
       "Genre           0.000000\n",
       "Publisher       0.365631\n",
       "NA_Sales        0.000000\n",
       "EU_Sales        0.000000\n",
       "JP_Sales        0.000000\n",
       "Other_Sales     0.000000\n",
       "Global_Sales    0.000000\n",
       "dtype: float64"
      ]
     },
     "execution_count": 34,
     "metadata": {},
     "output_type": "execute_result"
    }
   ],
   "source": [
    "df[['Year']] = SI.transform(df[['Year']])\n",
    "df.isnull().mean() * 100"
   ]
  },
  {
   "attachments": {},
   "cell_type": "markdown",
   "id": "5ae8e6c3",
   "metadata": {},
   "source": [
    "Для сохранения датасета необходимо воспользоваться методом to_csv() библиотеки pandas"
   ]
  },
  {
   "cell_type": "code",
   "execution_count": 35,
   "id": "91ea3894",
   "metadata": {},
   "outputs": [],
   "source": [
    "df.to_csv(\"prakticheskay1_clear.csv\")"
   ]
  },
  {
   "attachments": {},
   "cell_type": "markdown",
   "id": "e9224238",
   "metadata": {},
   "source": [
    "Вывод - в данной практической работе был проведен разведочный анализ данных по датасету."
   ]
  }
 ],
 "metadata": {
  "kernelspec": {
   "display_name": "Python 3 (ipykernel)",
   "language": "python",
   "name": "python3"
  },
  "language_info": {
   "codemirror_mode": {
    "name": "ipython",
    "version": 3
   },
   "file_extension": ".py",
   "mimetype": "text/x-python",
   "name": "python",
   "nbconvert_exporter": "python",
   "pygments_lexer": "ipython3",
   "version": "3.10.9"
  }
 },
 "nbformat": 4,
 "nbformat_minor": 5
}
